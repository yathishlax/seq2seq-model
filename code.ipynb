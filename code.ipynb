{
  "nbformat": 4,
  "nbformat_minor": 0,
  "metadata": {
    "colab": {
      "name": "Untitled18.ipynb",
      "provenance": [],
      "toc_visible": true,
      "authorship_tag": "ABX9TyOAlHPjvHxHeQ1eQVJZ/4qG",
      "include_colab_link": true
    },
    "kernelspec": {
      "name": "python3",
      "display_name": "Python 3"
    }
  },
  "cells": [
    {
      "cell_type": "markdown",
      "metadata": {
        "id": "view-in-github",
        "colab_type": "text"
      },
      "source": [
        "<a href=\"https://colab.research.google.com/github/yathishlax/seq2seq-model/blob/master/code.ipynb\" target=\"_parent\"><img src=\"https://colab.research.google.com/assets/colab-badge.svg\" alt=\"Open In Colab\"/></a>"
      ]
    },
    {
      "cell_type": "markdown",
      "metadata": {
        "id": "sUq95KG5XHzD",
        "colab_type": "text"
      },
      "source": [
        "## Importing Important libraries"
      ]
    },
    {
      "cell_type": "code",
      "metadata": {
        "id": "22s5SpAxXMgE",
        "colab_type": "code",
        "colab": {}
      },
      "source": [
        "from keras.models import Model\n",
        "from keras.layers import Input, LSTM, Dense"
      ],
      "execution_count": 2,
      "outputs": []
    },
    {
      "cell_type": "markdown",
      "metadata": {
        "id": "twi6ifuQXsD8",
        "colab_type": "text"
      },
      "source": [
        "Turn the sentences into 3 Numpy arrays, encoder_input_data, decoder_input_data, decoder_target_data"
      ]
    },
    {
      "cell_type": "markdown",
      "metadata": {
        "id": "bmv1L8R2XpmO",
        "colab_type": "text"
      },
      "source": [
        ""
      ]
    },
    {
      "cell_type": "code",
      "metadata": {
        "id": "8Lc6rjPzXmvz",
        "colab_type": "code",
        "colab": {}
      },
      "source": [
        "batch_size = 64 # batch size for training\n",
        "epochs = 100 #numbers of epochs for training\n",
        "latent_dim = 256 #latent domensionality of encoding space\n",
        "num_samples = 10000 #number of samples to train on\n",
        "\n"
      ],
      "execution_count": 7,
      "outputs": []
    },
    {
      "cell_type": "markdown",
      "metadata": {
        "id": "jeAEU-hUaIyr",
        "colab_type": "text"
      },
      "source": [
        "## Path to datafile"
      ]
    },
    {
      "cell_type": "code",
      "metadata": {
        "id": "SHCL0RyqaOfs",
        "colab_type": "code",
        "colab": {}
      },
      "source": [
        "datapath = 'fra.txt'"
      ],
      "execution_count": 5,
      "outputs": []
    },
    {
      "cell_type": "markdown",
      "metadata": {
        "id": "MD3HhdxBb3ps",
        "colab_type": "text"
      },
      "source": [
        "## Vectorize the data"
      ]
    },
    {
      "cell_type": "code",
      "metadata": {
        "id": "qQ70Dyk3b6vi",
        "colab_type": "code",
        "colab": {}
      },
      "source": [
        "input_texts = []\n",
        "target_texts = []\n",
        "input_characters = set()\n",
        "target_characters = set()\n",
        "with open(datapath, 'r', encoding = 'utf-8') as f:\n",
        "  lines = f.read().split('\\n')\n",
        "for line in lines[:min(num_samples, len(lines)-1)]:\n",
        "  input_text, target_text, _ = line.split('\\t')\n",
        "  #we use tab as 'short requence' character\n",
        "  #for the targets and '\\n' as \"end sequence\" character\n",
        "  target_text =  '\\t' +target_text + '\\n'\n",
        "  input_texts.append(input_text)\n",
        "  target_texts.append(target_text)\n",
        "  for char in input_text:\n",
        "    if char not in input_characters:\n",
        "      input_characters.add(char)\n",
        "  for char in target_text:\n",
        "    if char not in target_characters:\n",
        "      target_characters.add(char)\n",
        "\n"
      ],
      "execution_count": 8,
      "outputs": []
    },
    {
      "cell_type": "markdown",
      "metadata": {
        "id": "wTYCvig8fBhM",
        "colab_type": "text"
      },
      "source": [
        "## lets see the classification"
      ]
    },
    {
      "cell_type": "code",
      "metadata": {
        "id": "dXgkUphRgB5W",
        "colab_type": "code",
        "colab": {}
      },
      "source": [
        "input_characters = sorted(list(input_characters))\n",
        "target_characters = sorted(list(target_characters))\n",
        "num_encoder_tokens = len(input_characters)\n",
        "num_decoder_tokens = len(target_characters)\n",
        "max_encoder_seq_length = max(len(txt)for txt in input_texts)\n",
        "max_decoder_seq_length = max(len(txt)for txt in target_texts)"
      ],
      "execution_count": 16,
      "outputs": []
    },
    {
      "cell_type": "code",
      "metadata": {
        "id": "Rv3ubBUffFBj",
        "colab_type": "code",
        "colab": {
          "base_uri": "https://localhost:8080/",
          "height": 102
        },
        "outputId": "59f69b09-eddd-4956-d2c2-cf6589fa54b0"
      },
      "source": [
        "print('Number of samples:', len(input_texts))\n",
        "print('Number of unique input tokens:', num_encoder_tokens)\n",
        "print('Number of unique output tokens:', num_decoder_tokens)\n",
        "print('Max sequence length for inputs:', max_encoder_seq_length)\n",
        "print('Max sequence length for outputs:', max_decoder_seq_length)"
      ],
      "execution_count": 17,
      "outputs": [
        {
          "output_type": "stream",
          "text": [
            "Number of samples: 10000\n",
            "Number of unique input tokens: 71\n",
            "Number of unique output tokens: 92\n",
            "Max sequence length for inputs: 16\n",
            "Max sequence length for outputs: 59\n"
          ],
          "name": "stdout"
        }
      ]
    },
    {
      "cell_type": "markdown",
      "metadata": {
        "id": "3voAJ9Qrg98-",
        "colab_type": "text"
      },
      "source": [
        "## Lets assign the token for each and every chararcter"
      ]
    },
    {
      "cell_type": "code",
      "metadata": {
        "id": "HyZd-aC7hBzK",
        "colab_type": "code",
        "colab": {}
      },
      "source": [
        "input_token_index = dict(\n",
        "    [(char, i) for i, char in enumerate(input_characters)])\n",
        "target_token_index = dict(\n",
        "    [(char, i) for i, char in enumerate(target_characters)])"
      ],
      "execution_count": 18,
      "outputs": []
    },
    {
      "cell_type": "code",
      "metadata": {
        "id": "aHid3Lukb2oJ",
        "colab_type": "code",
        "colab": {
          "base_uri": "https://localhost:8080/",
          "height": 1000
        },
        "outputId": "b82f3f06-9421-4c15-c73f-5b2f928bf622"
      },
      "source": [
        "input_token_index, target_token_index"
      ],
      "execution_count": 20,
      "outputs": [
        {
          "output_type": "execute_result",
          "data": {
            "text/plain": [
              "({' ': 0,\n",
              "  '!': 1,\n",
              "  '$': 2,\n",
              "  '%': 3,\n",
              "  '&': 4,\n",
              "  \"'\": 5,\n",
              "  ',': 6,\n",
              "  '-': 7,\n",
              "  '.': 8,\n",
              "  '0': 9,\n",
              "  '1': 10,\n",
              "  '2': 11,\n",
              "  '3': 12,\n",
              "  '5': 13,\n",
              "  '6': 14,\n",
              "  '7': 15,\n",
              "  '8': 16,\n",
              "  '9': 17,\n",
              "  ':': 18,\n",
              "  '?': 19,\n",
              "  'A': 20,\n",
              "  'B': 21,\n",
              "  'C': 22,\n",
              "  'D': 23,\n",
              "  'E': 24,\n",
              "  'F': 25,\n",
              "  'G': 26,\n",
              "  'H': 27,\n",
              "  'I': 28,\n",
              "  'J': 29,\n",
              "  'K': 30,\n",
              "  'L': 31,\n",
              "  'M': 32,\n",
              "  'N': 33,\n",
              "  'O': 34,\n",
              "  'P': 35,\n",
              "  'Q': 36,\n",
              "  'R': 37,\n",
              "  'S': 38,\n",
              "  'T': 39,\n",
              "  'U': 40,\n",
              "  'V': 41,\n",
              "  'W': 42,\n",
              "  'Y': 43,\n",
              "  'a': 44,\n",
              "  'b': 45,\n",
              "  'c': 46,\n",
              "  'd': 47,\n",
              "  'e': 48,\n",
              "  'f': 49,\n",
              "  'g': 50,\n",
              "  'h': 51,\n",
              "  'i': 52,\n",
              "  'j': 53,\n",
              "  'k': 54,\n",
              "  'l': 55,\n",
              "  'm': 56,\n",
              "  'n': 57,\n",
              "  'o': 58,\n",
              "  'p': 59,\n",
              "  'q': 60,\n",
              "  'r': 61,\n",
              "  's': 62,\n",
              "  't': 63,\n",
              "  'u': 64,\n",
              "  'v': 65,\n",
              "  'w': 66,\n",
              "  'x': 67,\n",
              "  'y': 68,\n",
              "  'z': 69,\n",
              "  'é': 70},\n",
              " {'\\t': 0,\n",
              "  '\\n': 1,\n",
              "  ' ': 2,\n",
              "  '!': 3,\n",
              "  '%': 4,\n",
              "  '&': 5,\n",
              "  \"'\": 6,\n",
              "  '(': 7,\n",
              "  ')': 8,\n",
              "  ',': 9,\n",
              "  '-': 10,\n",
              "  '.': 11,\n",
              "  '0': 12,\n",
              "  '1': 13,\n",
              "  '2': 14,\n",
              "  '3': 15,\n",
              "  '5': 16,\n",
              "  '8': 17,\n",
              "  '9': 18,\n",
              "  ':': 19,\n",
              "  '?': 20,\n",
              "  'A': 21,\n",
              "  'B': 22,\n",
              "  'C': 23,\n",
              "  'D': 24,\n",
              "  'E': 25,\n",
              "  'F': 26,\n",
              "  'G': 27,\n",
              "  'H': 28,\n",
              "  'I': 29,\n",
              "  'J': 30,\n",
              "  'K': 31,\n",
              "  'L': 32,\n",
              "  'M': 33,\n",
              "  'N': 34,\n",
              "  'O': 35,\n",
              "  'P': 36,\n",
              "  'Q': 37,\n",
              "  'R': 38,\n",
              "  'S': 39,\n",
              "  'T': 40,\n",
              "  'U': 41,\n",
              "  'V': 42,\n",
              "  'Y': 43,\n",
              "  'a': 44,\n",
              "  'b': 45,\n",
              "  'c': 46,\n",
              "  'd': 47,\n",
              "  'e': 48,\n",
              "  'f': 49,\n",
              "  'g': 50,\n",
              "  'h': 51,\n",
              "  'i': 52,\n",
              "  'j': 53,\n",
              "  'k': 54,\n",
              "  'l': 55,\n",
              "  'm': 56,\n",
              "  'n': 57,\n",
              "  'o': 58,\n",
              "  'p': 59,\n",
              "  'q': 60,\n",
              "  'r': 61,\n",
              "  's': 62,\n",
              "  't': 63,\n",
              "  'u': 64,\n",
              "  'v': 65,\n",
              "  'x': 66,\n",
              "  'y': 67,\n",
              "  'z': 68,\n",
              "  '\\xa0': 69,\n",
              "  '«': 70,\n",
              "  '»': 71,\n",
              "  'À': 72,\n",
              "  'Ç': 73,\n",
              "  'É': 74,\n",
              "  'Ê': 75,\n",
              "  'à': 76,\n",
              "  'â': 77,\n",
              "  'ç': 78,\n",
              "  'è': 79,\n",
              "  'é': 80,\n",
              "  'ê': 81,\n",
              "  'ë': 82,\n",
              "  'î': 83,\n",
              "  'ï': 84,\n",
              "  'ô': 85,\n",
              "  'ù': 86,\n",
              "  'û': 87,\n",
              "  'œ': 88,\n",
              "  '\\u2009': 89,\n",
              "  '’': 90,\n",
              "  '\\u202f': 91})"
            ]
          },
          "metadata": {
            "tags": []
          },
          "execution_count": 20
        }
      ]
    },
    {
      "cell_type": "markdown",
      "metadata": {
        "id": "Gr94hxy4hsQO",
        "colab_type": "text"
      },
      "source": [
        "## Creating 3D numpy arrays for input and output"
      ]
    },
    {
      "cell_type": "code",
      "metadata": {
        "id": "mXZ1zpbgilGg",
        "colab_type": "code",
        "colab": {}
      },
      "source": [
        "import numpy as np"
      ],
      "execution_count": 22,
      "outputs": []
    },
    {
      "cell_type": "code",
      "metadata": {
        "id": "-aHBU0QQh_VI",
        "colab_type": "code",
        "colab": {}
      },
      "source": [
        "encoder_input_data = np.zeros(\n",
        "    (len(input_texts), max_encoder_seq_length, num_encoder_tokens),\n",
        "    dtype = 'float32')\n",
        "decoder_input_data = np.zeros(\n",
        "    (len(input_texts), max_decoder_seq_length, num_decoder_tokens),\n",
        "    dtype = 'float32')\n",
        "decoder_target_data = np.zeros(\n",
        "    (len(input_texts), max_decoder_seq_length, num_decoder_tokens),\n",
        "    dtype = 'float32')"
      ],
      "execution_count": 23,
      "outputs": []
    },
    {
      "cell_type": "markdown",
      "metadata": {
        "id": "0R_MRrJAjL_4",
        "colab_type": "text"
      },
      "source": [
        "## One hot representation "
      ]
    },
    {
      "cell_type": "code",
      "metadata": {
        "id": "eyak_aJskVJA",
        "colab_type": "code",
        "colab": {}
      },
      "source": [
        "for i, (input_text, target_text), in enumerate(zip(input_texts, target_texts)):\n",
        "  for t, char in enumerate(input_text):\n",
        "    encoder_input_data[i, t:, input_token_index[char]]=1.\n",
        "    encoder_input_data[i, t+1:, input_token_index[' ']]=1.\n",
        "    for t, char in enumerate(target_text):\n",
        "      #decoder_target_data is ahead of decoder_input_data by one timestamp\n",
        "      decoder_input_data[i, t, target_token_index[char]]=1.\n",
        "      if t >0:\n",
        "        #decoder_target_data will be ahead by one timestep\n",
        "        #and will not include start character\n",
        "        decoder_target_data[i, t - 1, target_token_index[char]]= 1.\n",
        "      decoder_input_data[i, t + 1:, target_token_index[' ']]= 1. \n",
        "      decoder_target_data[i, t:, target_token_index[' ']]= 1. "
      ],
      "execution_count": 33,
      "outputs": []
    },
    {
      "cell_type": "code",
      "metadata": {
        "id": "PZ60YgVUaIBQ",
        "colab_type": "code",
        "colab": {
          "base_uri": "https://localhost:8080/",
          "height": 34
        },
        "outputId": "53d92308-7191-40fe-e356-0d7840dfd21a"
      },
      "source": [
        "encoder_input_data[0].shape"
      ],
      "execution_count": 34,
      "outputs": [
        {
          "output_type": "execute_result",
          "data": {
            "text/plain": [
              "(16, 71)"
            ]
          },
          "metadata": {
            "tags": []
          },
          "execution_count": 34
        }
      ]
    },
    {
      "cell_type": "markdown",
      "metadata": {
        "id": "P-02R9k7pAxG",
        "colab_type": "text"
      },
      "source": [
        "## Applying LSTM"
      ]
    },
    {
      "cell_type": "code",
      "metadata": {
        "id": "bqBW08xgoSWq",
        "colab_type": "code",
        "colab": {}
      },
      "source": [
        "# Define an input sequence and process it.\n",
        "encoder_inputs = Input(shape=(None, num_encoder_tokens))\n",
        "encoder = LSTM(latent_dim, return_state=True)\n",
        "encoder_outputs, state_h, state_c = encoder(encoder_inputs)\n",
        "# We discard `encoder_outputs` and only keep the states.\n",
        "encoder_states = [state_h, state_c]"
      ],
      "execution_count": 37,
      "outputs": []
    },
    {
      "cell_type": "code",
      "metadata": {
        "id": "F9J2yubvo67v",
        "colab_type": "code",
        "colab": {}
      },
      "source": [
        "# Set up the decoder, using `encoder_states` as initial state.\n",
        "decoder_inputs = Input(shape=(None, num_decoder_tokens))\n",
        "# We set up our decoder to return full output sequences,\n",
        "# and to return internal states as well. We don't use the \n",
        "# return states in the training model, but we will use them in inference.\n",
        "decoder_lstm = LSTM(latent_dim, return_sequences=True, return_state=True)\n",
        "decoder_outputs, _, _ = decoder_lstm(decoder_inputs,\n",
        "                                     initial_state=encoder_states)\n",
        "decoder_dense = Dense(num_decoder_tokens, activation='softmax')\n",
        "decoder_outputs = decoder_dense(decoder_outputs)"
      ],
      "execution_count": 39,
      "outputs": []
    },
    {
      "cell_type": "code",
      "metadata": {
        "id": "QvST9wDspI8w",
        "colab_type": "code",
        "colab": {}
      },
      "source": [
        "# Define the model that will turn\n",
        "# `encoder_input_data` & `decoder_input_data` into `decoder_target_data`\n",
        "model = Model([encoder_inputs, decoder_inputs], decoder_outputs)"
      ],
      "execution_count": 41,
      "outputs": []
    },
    {
      "cell_type": "code",
      "metadata": {
        "id": "SNShkWACpgL9",
        "colab_type": "code",
        "colab": {
          "base_uri": "https://localhost:8080/",
          "height": 1000
        },
        "outputId": "94526825-1e92-41a8-98d9-beaf35f48517"
      },
      "source": [
        "# Run training\n",
        "model.compile(optimizer='rmsprop', loss='categorical_crossentropy')\n",
        "model.fit([encoder_input_data, decoder_input_data], decoder_target_data,\n",
        "          batch_size=batch_size,\n",
        "          epochs=epochs,\n",
        "          validation_split=0.2)"
      ],
      "execution_count": 42,
      "outputs": [
        {
          "output_type": "stream",
          "text": [
            "Train on 8000 samples, validate on 2000 samples\n",
            "Epoch 1/100\n",
            "8000/8000 [==============================] - 73s 9ms/step - loss: 1.3835 - val_loss: 1.3751\n",
            "Epoch 2/100\n",
            "8000/8000 [==============================] - 71s 9ms/step - loss: 1.1294 - val_loss: 1.2125\n",
            "Epoch 3/100\n",
            "8000/8000 [==============================] - 74s 9ms/step - loss: 1.0005 - val_loss: 1.0900\n",
            "Epoch 4/100\n",
            "8000/8000 [==============================] - 71s 9ms/step - loss: 0.9391 - val_loss: 1.0973\n",
            "Epoch 5/100\n",
            "8000/8000 [==============================] - 71s 9ms/step - loss: 0.8973 - val_loss: 1.0110\n",
            "Epoch 6/100\n",
            "8000/8000 [==============================] - 73s 9ms/step - loss: 0.8696 - val_loss: 0.9892\n",
            "Epoch 7/100\n",
            "8000/8000 [==============================] - 74s 9ms/step - loss: 0.8456 - val_loss: 0.9747\n",
            "Epoch 8/100\n",
            "8000/8000 [==============================] - 74s 9ms/step - loss: 0.8258 - val_loss: 0.9559\n",
            "Epoch 9/100\n",
            "8000/8000 [==============================] - 73s 9ms/step - loss: 0.8074 - val_loss: 0.9450\n",
            "Epoch 10/100\n",
            "8000/8000 [==============================] - 73s 9ms/step - loss: 0.7912 - val_loss: 0.9370\n",
            "Epoch 11/100\n",
            "8000/8000 [==============================] - 72s 9ms/step - loss: 0.7767 - val_loss: 0.9217\n",
            "Epoch 12/100\n",
            "8000/8000 [==============================] - 74s 9ms/step - loss: 0.7627 - val_loss: 0.9157\n",
            "Epoch 13/100\n",
            "8000/8000 [==============================] - 73s 9ms/step - loss: 0.7496 - val_loss: 0.9102\n",
            "Epoch 14/100\n",
            "8000/8000 [==============================] - 73s 9ms/step - loss: 0.7376 - val_loss: 0.9029\n",
            "Epoch 15/100\n",
            "8000/8000 [==============================] - 73s 9ms/step - loss: 0.7259 - val_loss: 0.9008\n",
            "Epoch 16/100\n",
            "8000/8000 [==============================] - 74s 9ms/step - loss: 0.7147 - val_loss: 0.8961\n",
            "Epoch 17/100\n",
            "8000/8000 [==============================] - 71s 9ms/step - loss: 0.7045 - val_loss: 0.8914\n",
            "Epoch 18/100\n",
            "8000/8000 [==============================] - 72s 9ms/step - loss: 0.6942 - val_loss: 0.8903\n",
            "Epoch 19/100\n",
            "8000/8000 [==============================] - 72s 9ms/step - loss: 0.6845 - val_loss: 0.8857\n",
            "Epoch 20/100\n",
            "8000/8000 [==============================] - 72s 9ms/step - loss: 0.6750 - val_loss: 0.8906\n",
            "Epoch 21/100\n",
            "8000/8000 [==============================] - 72s 9ms/step - loss: 0.6662 - val_loss: 0.8855\n",
            "Epoch 22/100\n",
            "8000/8000 [==============================] - 71s 9ms/step - loss: 0.6576 - val_loss: 0.8844\n",
            "Epoch 23/100\n",
            "8000/8000 [==============================] - 72s 9ms/step - loss: 0.6489 - val_loss: 0.8900\n",
            "Epoch 24/100\n",
            "8000/8000 [==============================] - 70s 9ms/step - loss: 0.6409 - val_loss: 0.8861\n",
            "Epoch 25/100\n",
            "8000/8000 [==============================] - 72s 9ms/step - loss: 0.6336 - val_loss: 0.8906\n",
            "Epoch 26/100\n",
            "8000/8000 [==============================] - 71s 9ms/step - loss: 0.6261 - val_loss: 0.8935\n",
            "Epoch 27/100\n",
            "8000/8000 [==============================] - 71s 9ms/step - loss: 0.6188 - val_loss: 0.8924\n",
            "Epoch 28/100\n",
            "8000/8000 [==============================] - 71s 9ms/step - loss: 0.6117 - val_loss: 0.8940\n",
            "Epoch 29/100\n",
            "8000/8000 [==============================] - 72s 9ms/step - loss: 0.6052 - val_loss: 0.8951\n",
            "Epoch 30/100\n",
            "8000/8000 [==============================] - 71s 9ms/step - loss: 0.5985 - val_loss: 0.9023\n",
            "Epoch 31/100\n",
            "8000/8000 [==============================] - 71s 9ms/step - loss: 0.5921 - val_loss: 0.9004\n",
            "Epoch 32/100\n",
            "8000/8000 [==============================] - 71s 9ms/step - loss: 0.5866 - val_loss: 0.9045\n",
            "Epoch 33/100\n",
            "8000/8000 [==============================] - 71s 9ms/step - loss: 0.5806 - val_loss: 0.9094\n",
            "Epoch 34/100\n",
            "8000/8000 [==============================] - 73s 9ms/step - loss: 0.5748 - val_loss: 0.9154\n",
            "Epoch 35/100\n",
            "8000/8000 [==============================] - 65s 8ms/step - loss: 0.5690 - val_loss: 0.9134\n",
            "Epoch 36/100\n",
            "8000/8000 [==============================] - 65s 8ms/step - loss: 0.5640 - val_loss: 0.9178\n",
            "Epoch 37/100\n",
            "8000/8000 [==============================] - 64s 8ms/step - loss: 0.5588 - val_loss: 0.9213\n",
            "Epoch 38/100\n",
            "8000/8000 [==============================] - 65s 8ms/step - loss: 0.5541 - val_loss: 0.9309\n",
            "Epoch 39/100\n",
            "8000/8000 [==============================] - 66s 8ms/step - loss: 0.5492 - val_loss: 0.9322\n",
            "Epoch 40/100\n",
            "8000/8000 [==============================] - 64s 8ms/step - loss: 0.5452 - val_loss: 0.9362\n",
            "Epoch 41/100\n",
            "8000/8000 [==============================] - 65s 8ms/step - loss: 0.5407 - val_loss: 0.9372\n",
            "Epoch 42/100\n",
            "8000/8000 [==============================] - 64s 8ms/step - loss: 0.5368 - val_loss: 0.9445\n",
            "Epoch 43/100\n",
            "8000/8000 [==============================] - 64s 8ms/step - loss: 0.5325 - val_loss: 0.9560\n",
            "Epoch 44/100\n",
            "8000/8000 [==============================] - 63s 8ms/step - loss: 0.5287 - val_loss: 0.9507\n",
            "Epoch 45/100\n",
            "8000/8000 [==============================] - 61s 8ms/step - loss: 0.5247 - val_loss: 0.9554\n",
            "Epoch 46/100\n",
            "8000/8000 [==============================] - 61s 8ms/step - loss: 0.5212 - val_loss: 0.9673\n",
            "Epoch 47/100\n",
            "8000/8000 [==============================] - 61s 8ms/step - loss: 0.5177 - val_loss: 0.9656\n",
            "Epoch 48/100\n",
            "8000/8000 [==============================] - 61s 8ms/step - loss: 0.5142 - val_loss: 0.9720\n",
            "Epoch 49/100\n",
            "8000/8000 [==============================] - 62s 8ms/step - loss: 0.5113 - val_loss: 0.9706\n",
            "Epoch 50/100\n",
            "8000/8000 [==============================] - 62s 8ms/step - loss: 0.5082 - val_loss: 0.9861\n",
            "Epoch 51/100\n",
            "8000/8000 [==============================] - 62s 8ms/step - loss: 0.5048 - val_loss: 0.9825\n",
            "Epoch 52/100\n",
            "8000/8000 [==============================] - 62s 8ms/step - loss: 0.5025 - val_loss: 0.9918\n",
            "Epoch 53/100\n",
            "8000/8000 [==============================] - 63s 8ms/step - loss: 0.4995 - val_loss: 0.9950\n",
            "Epoch 54/100\n",
            "8000/8000 [==============================] - 64s 8ms/step - loss: 0.4971 - val_loss: 1.0015\n",
            "Epoch 55/100\n",
            "8000/8000 [==============================] - 62s 8ms/step - loss: 0.4941 - val_loss: 1.0080\n",
            "Epoch 56/100\n",
            "8000/8000 [==============================] - 63s 8ms/step - loss: 0.4919 - val_loss: 1.0163\n",
            "Epoch 57/100\n",
            "8000/8000 [==============================] - 62s 8ms/step - loss: 0.4893 - val_loss: 1.0126\n",
            "Epoch 58/100\n",
            "8000/8000 [==============================] - 63s 8ms/step - loss: 0.4873 - val_loss: 1.0085\n",
            "Epoch 59/100\n",
            "8000/8000 [==============================] - 64s 8ms/step - loss: 0.4851 - val_loss: 1.0083\n",
            "Epoch 60/100\n",
            "8000/8000 [==============================] - 63s 8ms/step - loss: 0.4834 - val_loss: 1.0205\n",
            "Epoch 61/100\n",
            "8000/8000 [==============================] - 63s 8ms/step - loss: 0.4808 - val_loss: 1.0255\n",
            "Epoch 62/100\n",
            "8000/8000 [==============================] - 63s 8ms/step - loss: 0.4791 - val_loss: 1.0204\n",
            "Epoch 63/100\n",
            "8000/8000 [==============================] - 63s 8ms/step - loss: 0.4771 - val_loss: 1.0272\n",
            "Epoch 64/100\n",
            "8000/8000 [==============================] - 63s 8ms/step - loss: 0.4757 - val_loss: 1.0318\n",
            "Epoch 65/100\n",
            "8000/8000 [==============================] - 63s 8ms/step - loss: 0.4736 - val_loss: 1.0356\n",
            "Epoch 66/100\n",
            "8000/8000 [==============================] - 63s 8ms/step - loss: 0.4722 - val_loss: 1.0366\n",
            "Epoch 67/100\n",
            "8000/8000 [==============================] - 64s 8ms/step - loss: 0.4703 - val_loss: 1.0525\n",
            "Epoch 68/100\n",
            "8000/8000 [==============================] - 63s 8ms/step - loss: 0.4690 - val_loss: 1.0452\n",
            "Epoch 69/100\n",
            "8000/8000 [==============================] - 65s 8ms/step - loss: 0.4672 - val_loss: 1.0614\n",
            "Epoch 70/100\n",
            "8000/8000 [==============================] - 64s 8ms/step - loss: 0.4664 - val_loss: 1.0562\n",
            "Epoch 71/100\n",
            "8000/8000 [==============================] - 64s 8ms/step - loss: 0.4648 - val_loss: 1.0530\n",
            "Epoch 72/100\n",
            "8000/8000 [==============================] - 64s 8ms/step - loss: 0.4636 - val_loss: 1.0623\n",
            "Epoch 73/100\n",
            "8000/8000 [==============================] - 64s 8ms/step - loss: 0.4624 - val_loss: 1.0652\n",
            "Epoch 74/100\n",
            "8000/8000 [==============================] - 63s 8ms/step - loss: 0.4610 - val_loss: 1.0665\n",
            "Epoch 75/100\n",
            "8000/8000 [==============================] - 62s 8ms/step - loss: 0.4598 - val_loss: 1.0644\n",
            "Epoch 76/100\n",
            "8000/8000 [==============================] - 61s 8ms/step - loss: 0.4588 - val_loss: 1.0664\n",
            "Epoch 77/100\n",
            "8000/8000 [==============================] - 62s 8ms/step - loss: 0.4576 - val_loss: 1.0849\n",
            "Epoch 78/100\n",
            "8000/8000 [==============================] - 62s 8ms/step - loss: 0.4566 - val_loss: 1.0721\n",
            "Epoch 79/100\n",
            "8000/8000 [==============================] - 63s 8ms/step - loss: 0.4554 - val_loss: 1.0791\n",
            "Epoch 80/100\n",
            "8000/8000 [==============================] - 62s 8ms/step - loss: 0.4548 - val_loss: 1.0800\n",
            "Epoch 81/100\n",
            "8000/8000 [==============================] - 61s 8ms/step - loss: 0.4532 - val_loss: 1.0834\n",
            "Epoch 82/100\n",
            "8000/8000 [==============================] - 62s 8ms/step - loss: 0.4529 - val_loss: 1.0826\n",
            "Epoch 83/100\n",
            "8000/8000 [==============================] - 61s 8ms/step - loss: 0.4521 - val_loss: 1.0881\n",
            "Epoch 84/100\n",
            "8000/8000 [==============================] - 61s 8ms/step - loss: 0.4512 - val_loss: 1.0838\n",
            "Epoch 85/100\n",
            "8000/8000 [==============================] - 61s 8ms/step - loss: 0.4501 - val_loss: 1.0864\n",
            "Epoch 86/100\n",
            "8000/8000 [==============================] - 60s 8ms/step - loss: 0.4494 - val_loss: 1.1007\n",
            "Epoch 87/100\n",
            "8000/8000 [==============================] - 60s 8ms/step - loss: 0.4487 - val_loss: 1.0976\n",
            "Epoch 88/100\n",
            "8000/8000 [==============================] - 60s 8ms/step - loss: 0.4480 - val_loss: 1.0997\n",
            "Epoch 89/100\n",
            "8000/8000 [==============================] - 65s 8ms/step - loss: 0.4475 - val_loss: 1.1025\n",
            "Epoch 90/100\n",
            "8000/8000 [==============================] - 62s 8ms/step - loss: 0.4465 - val_loss: 1.1038\n",
            "Epoch 91/100\n",
            "8000/8000 [==============================] - 61s 8ms/step - loss: 0.4456 - val_loss: 1.1048\n",
            "Epoch 92/100\n",
            "8000/8000 [==============================] - 62s 8ms/step - loss: 0.4451 - val_loss: 1.1082\n",
            "Epoch 93/100\n",
            "8000/8000 [==============================] - 62s 8ms/step - loss: 0.4447 - val_loss: 1.1060\n",
            "Epoch 94/100\n",
            "8000/8000 [==============================] - 64s 8ms/step - loss: 0.4438 - val_loss: 1.1107\n",
            "Epoch 95/100\n",
            "8000/8000 [==============================] - 64s 8ms/step - loss: 0.4433 - val_loss: 1.1206\n",
            "Epoch 96/100\n",
            "8000/8000 [==============================] - 63s 8ms/step - loss: 0.4429 - val_loss: 1.1140\n",
            "Epoch 97/100\n",
            "8000/8000 [==============================] - 62s 8ms/step - loss: 0.4419 - val_loss: 1.1155\n",
            "Epoch 98/100\n",
            "8000/8000 [==============================] - 61s 8ms/step - loss: 0.4417 - val_loss: 1.1196\n",
            "Epoch 99/100\n",
            "8000/8000 [==============================] - 61s 8ms/step - loss: 0.4412 - val_loss: 1.1191\n",
            "Epoch 100/100\n",
            "8000/8000 [==============================] - 62s 8ms/step - loss: 0.4404 - val_loss: 1.1286\n"
          ],
          "name": "stdout"
        },
        {
          "output_type": "execute_result",
          "data": {
            "text/plain": [
              "<keras.callbacks.callbacks.History at 0x7fad9b7bea58>"
            ]
          },
          "metadata": {
            "tags": []
          },
          "execution_count": 42
        }
      ]
    },
    {
      "cell_type": "code",
      "metadata": {
        "id": "GzehF7Uvo76P",
        "colab_type": "code",
        "colab": {}
      },
      "source": [
        ""
      ],
      "execution_count": null,
      "outputs": []
    },
    {
      "cell_type": "markdown",
      "metadata": {
        "id": "jb99UQPJhrvl",
        "colab_type": "text"
      },
      "source": [
        ""
      ]
    },
    {
      "cell_type": "code",
      "metadata": {
        "id": "f5_0MtPBXW_r",
        "colab_type": "code",
        "colab": {}
      },
      "source": [
        "# Define an input sequence and process it.\n",
        "encoder_inputs = Input(shape=(None, num_encoder_tokens))\n",
        "encoder = LSTM(latent_dim, return_state=True)\n",
        "encoder_outputs, state_h, state_c = encoder(encoder_inputs)\n",
        "# We discard `encoder_outputs` and only keep the states.\n",
        "encoder_states = [state_h, state_c]"
      ],
      "execution_count": 44,
      "outputs": []
    }
  ]
}